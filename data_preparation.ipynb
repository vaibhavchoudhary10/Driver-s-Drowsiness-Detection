{
 "cells": [
  {
   "cell_type": "code",
   "execution_count": 2,
   "id": "d0ca1c74",
   "metadata": {},
   "outputs": [],
   "source": [
    "import os\n",
    "import glob\n",
    "import shutil\n",
    "import random\n",
    "from tqdm import tqdm"
   ]
  },
  {
   "cell_type": "code",
   "execution_count": 3,
   "id": "efab760c",
   "metadata": {},
   "outputs": [
    {
     "name": "stderr",
     "output_type": "stream",
     "text": [
      "0it [00:00, ?it/s]\n",
      "100%|██████████| 3242/3242 [00:27<00:00, 118.39it/s]\n",
      "100%|██████████| 1114/1114 [00:09<00:00, 119.57it/s]\n",
      "100%|██████████| 679/679 [00:06<00:00, 97.79it/s] \n",
      "100%|██████████| 1069/1069 [00:10<00:00, 99.55it/s] \n",
      "100%|██████████| 736/736 [00:08<00:00, 87.13it/s] \n",
      "100%|██████████| 1012/1012 [00:11<00:00, 85.82it/s]\n",
      "100%|██████████| 624/624 [00:06<00:00, 100.86it/s]\n",
      "100%|██████████| 832/832 [00:06<00:00, 122.96it/s]\n",
      "100%|██████████| 387/387 [00:03<00:00, 119.54it/s]\n",
      "100%|██████████| 399/399 [00:03<00:00, 117.48it/s]\n",
      "100%|██████████| 1648/1648 [00:14<00:00, 112.66it/s]\n",
      "100%|██████████| 8728/8728 [01:39<00:00, 87.63it/s] \n",
      "100%|██████████| 3605/3605 [00:42<00:00, 85.31it/s] \n",
      "100%|██████████| 8884/8884 [01:37<00:00, 91.05it/s] \n",
      "100%|██████████| 1132/1132 [00:13<00:00, 82.23it/s]\n",
      "100%|██████████| 1889/1889 [00:22<00:00, 82.81it/s]\n",
      "100%|██████████| 1648/1648 [00:19<00:00, 82.97it/s]\n",
      "100%|██████████| 4410/4410 [00:43<00:00, 102.09it/s]\n",
      "100%|██████████| 6175/6175 [00:59<00:00, 103.23it/s]\n",
      "100%|██████████| 704/704 [00:07<00:00, 88.44it/s]\n",
      "100%|██████████| 987/987 [00:10<00:00, 90.92it/s]\n",
      "100%|██████████| 382/382 [00:04<00:00, 91.21it/s]\n",
      "100%|██████████| 522/522 [00:05<00:00, 90.03it/s]\n",
      "100%|██████████| 752/752 [00:08<00:00, 91.83it/s]\n",
      "100%|██████████| 1502/1502 [00:16<00:00, 89.98it/s]\n",
      "100%|██████████| 1246/1246 [00:13<00:00, 90.63it/s]\n",
      "100%|██████████| 665/665 [00:07<00:00, 90.81it/s]\n",
      "100%|██████████| 736/736 [00:08<00:00, 89.13it/s]\n",
      "100%|██████████| 1393/1393 [00:15<00:00, 90.45it/s] \n",
      "100%|██████████| 1384/1384 [00:12<00:00, 115.30it/s]\n",
      "100%|██████████| 1738/1738 [00:14<00:00, 118.16it/s]\n",
      "100%|██████████| 6162/6162 [00:54<00:00, 113.05it/s]\n",
      "100%|██████████| 681/681 [00:05<00:00, 114.96it/s]\n",
      "100%|██████████| 739/739 [00:06<00:00, 118.41it/s]\n",
      "100%|██████████| 642/642 [00:06<00:00, 104.42it/s]\n",
      "100%|██████████| 6193/6193 [00:57<00:00, 108.59it/s]\n",
      "100%|██████████| 10257/10257 [01:53<00:00, 90.73it/s] \n"
     ]
    }
   ],
   "source": [
    "raw_data = r'D:\\Python Projects\\Drowsiness_Detection\\mrlEyes_2018_01'\n",
    "for dirpath, dirname, filename in os.walk(raw_data):\n",
    "    for file in tqdm([f for f in filename if f.endswith('.png')]):\n",
    "        if file.split('_')[4] == '0':\n",
    "            path=r'D:\\Python Projects\\Drowsiness_Detection\\Prepared_data\\train\\ClosedEyes'\n",
    "            if not os.path.exists(path):\n",
    "                os.makedirs(path)\n",
    "            shutil.copy(src=dirpath + '/' + file, dst= path)\n",
    "        elif file.split('_')[4] == '1':\n",
    "            path=r'D:\\Python Projects\\Drowsiness_Detection\\Prepared_data\\train\\OpenEyes'\n",
    "            if not os.path.exists(path):\n",
    "                os.makedirs(path)\n",
    "            shutil.copy(src=dirpath + '/' + file, dst= path) "
   ]
  },
  {
   "cell_type": "code",
   "execution_count": 4,
   "id": "897d9910",
   "metadata": {},
   "outputs": [],
   "source": [
    "def create_test_closed(source, destination, percent):\n",
    "    '''\n",
    "    divides closed eyes images into given percent and moves from\n",
    "    source to destination.\n",
    "    \n",
    "    Arguments:\n",
    "    source(path): path of source directory\n",
    "    destination(path): path of destination directory\n",
    "    percent(float): percent of data to be divided(range: 0 to 1)\n",
    "    '''\n",
    "    path, dirs, files_closed = next(os.walk(source))\n",
    "    file_count_closed = len(files_closed)\n",
    "    percentage = file_count_closed * percent\n",
    "    to_move = random.sample(glob.glob(source + \"/*.png\"), int(percentage))\n",
    "\n",
    "    for f in enumerate(to_move):\n",
    "        if not os.path.exists(destination):\n",
    "            os.makedirs(destination)\n",
    "        shutil.move(f[1], destination)\n",
    "    print(f'moved {int(percentage)} images to the destination successfully.') "
   ]
  },
  {
   "cell_type": "code",
   "execution_count": 5,
   "id": "b3e2a0a2",
   "metadata": {},
   "outputs": [],
   "source": [
    "def create_test_open(source, destination, percent):\n",
    "    '''\n",
    "    divides open eyes images into given percent and moves from\n",
    "    source to destination.\n",
    "    \n",
    "    Arguments:\n",
    "    source(path): path of source directory\n",
    "    destination(path): path of destination directory\n",
    "    percent(float): percent of data to be divided(range: 0 to 1)\n",
    "    '''\n",
    "    path, dirs, files_open = next(os.walk(source))\n",
    "    file_count_open = len(files_open)\n",
    "    percentage = file_count_open * percent\n",
    "    to_move = random.sample(glob.glob(source + \"/*.png\"), int(percentage))\n",
    "\n",
    "    for f in enumerate(to_move):\n",
    "        if not os.path.exists(destination):\n",
    "            os.makedirs(destination)\n",
    "        shutil.move(f[1], destination)\n",
    "    print(f'moved {int(percentage)} images to the destination successfully.')"
   ]
  },
  {
   "cell_type": "code",
   "execution_count": 6,
   "id": "ced96ff4",
   "metadata": {},
   "outputs": [
    {
     "name": "stdout",
     "output_type": "stream",
     "text": [
      "moved 8389 images to the destination successfully.\n"
     ]
    }
   ],
   "source": [
    "create_test_closed(r'D:\\Python Projects\\Drowsiness_Detection\\Prepared_data\\train\\ClosedEyes', \n",
    "                    r'D:\\Python Projects\\Drowsiness_Detection\\Prepared_data\\test\\ClosedEyes', \n",
    "                    0.2)"
   ]
  },
  {
   "cell_type": "code",
   "execution_count": 7,
   "id": "20322b23",
   "metadata": {},
   "outputs": [
    {
     "name": "stdout",
     "output_type": "stream",
     "text": [
      "moved 8590 images to the destination successfully.\n"
     ]
    }
   ],
   "source": [
    "create_test_open(r'D:\\Python Projects\\Drowsiness_Detection\\Prepared_data\\train\\OpenEyes', \n",
    "                    r'D:\\Python Projects\\Drowsiness_Detection\\Prepared_data\\test\\OpenEyes', \n",
    "                    0.2)"
   ]
  },
  {
   "cell_type": "code",
   "execution_count": null,
   "id": "e4350158",
   "metadata": {},
   "outputs": [],
   "source": []
  }
 ],
 "metadata": {
  "kernelspec": {
   "display_name": ".venv",
   "language": "python",
   "name": "python3"
  },
  "language_info": {
   "codemirror_mode": {
    "name": "ipython",
    "version": 3
   },
   "file_extension": ".py",
   "mimetype": "text/x-python",
   "name": "python",
   "nbconvert_exporter": "python",
   "pygments_lexer": "ipython3",
   "version": "3.10.2"
  }
 },
 "nbformat": 4,
 "nbformat_minor": 5
}
